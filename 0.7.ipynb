{
 "cells": [
  {
   "cell_type": "code",
   "execution_count": 1,
   "id": "bccc503f",
   "metadata": {
    "execution": {
     "iopub.execute_input": "2023-11-10T21:24:37.425151Z",
     "iopub.status.busy": "2023-11-10T21:24:37.424517Z",
     "iopub.status.idle": "2023-11-10T21:26:54.603177Z",
     "shell.execute_reply": "2023-11-10T21:26:54.601375Z"
    },
    "papermill": {
     "duration": 137.190056,
     "end_time": "2023-11-10T21:26:54.606798",
     "exception": false,
     "start_time": "2023-11-10T21:24:37.416742",
     "status": "completed"
    },
    "tags": []
   },
   "outputs": [
    {
     "name": "stdout",
     "output_type": "stream",
     "text": [
      "Collecting phate\r\n",
      "  Obtaining dependency information for phate from https://files.pythonhosted.org/packages/04/7e/85ea7d79b1150b08edcf5aac5bc6b601074f2b5cc43e8f3936b10d6e3b0a/phate-1.0.11-py3-none-any.whl.metadata\r\n",
      "  Downloading phate-1.0.11-py3-none-any.whl.metadata (6.1 kB)\r\n",
      "Requirement already satisfied: numpy>=1.16.0 in /opt/conda/lib/python3.10/site-packages (from phate) (1.24.3)\r\n",
      "Requirement already satisfied: scipy>=1.1.0 in /opt/conda/lib/python3.10/site-packages (from phate) (1.11.3)\r\n",
      "Requirement already satisfied: scikit-learn>=0.20.0 in /opt/conda/lib/python3.10/site-packages (from phate) (1.2.2)\r\n",
      "Requirement already satisfied: future in /opt/conda/lib/python3.10/site-packages (from phate) (0.18.3)\r\n",
      "Collecting tasklogger>=1.2 (from phate)\r\n",
      "  Downloading tasklogger-1.2.0-py3-none-any.whl (14 kB)\r\n",
      "Collecting graphtools>=1.5.3 (from phate)\r\n",
      "  Downloading graphtools-1.5.3-py3-none-any.whl (45 kB)\r\n",
      "\u001b[2K     \u001b[90m━━━━━━━━━━━━━━━━━━━━━━━━━━━━━━━━━━━━━━━━\u001b[0m \u001b[32m45.4/45.4 kB\u001b[0m \u001b[31m2.8 MB/s\u001b[0m eta \u001b[36m0:00:00\u001b[0m\r\n",
      "\u001b[?25hCollecting scprep>=0.11.1 (from phate)\r\n",
      "  Obtaining dependency information for scprep>=0.11.1 from https://files.pythonhosted.org/packages/2a/d2/72a06c97668b07ef703ffdc392cbd5ce004733d14978f6ae2ae71a09df41/scprep-1.2.3-py3-none-any.whl.metadata\r\n",
      "  Downloading scprep-1.2.3-py3-none-any.whl.metadata (7.0 kB)\r\n",
      "Requirement already satisfied: Deprecated in /opt/conda/lib/python3.10/site-packages (from phate) (1.2.14)\r\n",
      "Collecting s-gd2>=1.8.1 (from phate)\r\n",
      "  Downloading s_gd2-1.8.1-cp310-cp310-manylinux_2_5_x86_64.manylinux1_x86_64.manylinux_2_12_x86_64.manylinux2010_x86_64.whl (602 kB)\r\n",
      "\u001b[2K     \u001b[90m━━━━━━━━━━━━━━━━━━━━━━━━━━━━━━━━━━━━━━\u001b[0m \u001b[32m602.6/602.6 kB\u001b[0m \u001b[31m18.4 MB/s\u001b[0m eta \u001b[36m0:00:00\u001b[0m\r\n",
      "\u001b[?25hRequirement already satisfied: matplotlib>=3.0 in /opt/conda/lib/python3.10/site-packages (from phate) (3.7.3)\r\n",
      "Collecting pygsp>=0.5.1 (from graphtools>=1.5.3->phate)\r\n",
      "  Downloading PyGSP-0.5.1-py2.py3-none-any.whl (1.8 MB)\r\n",
      "\u001b[2K     \u001b[90m━━━━━━━━━━━━━━━━━━━━━━━━━━━━━━━━━━━━━━━━\u001b[0m \u001b[32m1.8/1.8 MB\u001b[0m \u001b[31m49.1 MB/s\u001b[0m eta \u001b[36m0:00:00\u001b[0m\r\n",
      "\u001b[?25hRequirement already satisfied: contourpy>=1.0.1 in /opt/conda/lib/python3.10/site-packages (from matplotlib>=3.0->phate) (1.1.0)\r\n",
      "Requirement already satisfied: cycler>=0.10 in /opt/conda/lib/python3.10/site-packages (from matplotlib>=3.0->phate) (0.11.0)\r\n",
      "Requirement already satisfied: fonttools>=4.22.0 in /opt/conda/lib/python3.10/site-packages (from matplotlib>=3.0->phate) (4.42.1)\r\n",
      "Requirement already satisfied: kiwisolver>=1.0.1 in /opt/conda/lib/python3.10/site-packages (from matplotlib>=3.0->phate) (1.4.4)\r\n",
      "Requirement already satisfied: packaging>=20.0 in /opt/conda/lib/python3.10/site-packages (from matplotlib>=3.0->phate) (21.3)\r\n",
      "Requirement already satisfied: pillow>=6.2.0 in /opt/conda/lib/python3.10/site-packages (from matplotlib>=3.0->phate) (10.1.0)\r\n",
      "Requirement already satisfied: pyparsing>=2.3.1 in /opt/conda/lib/python3.10/site-packages (from matplotlib>=3.0->phate) (3.0.9)\r\n",
      "Requirement already satisfied: python-dateutil>=2.7 in /opt/conda/lib/python3.10/site-packages (from matplotlib>=3.0->phate) (2.8.2)\r\n",
      "Requirement already satisfied: joblib>=1.1.1 in /opt/conda/lib/python3.10/site-packages (from scikit-learn>=0.20.0->phate) (1.3.2)\r\n",
      "Requirement already satisfied: threadpoolctl>=2.0.0 in /opt/conda/lib/python3.10/site-packages (from scikit-learn>=0.20.0->phate) (3.2.0)\r\n",
      "Requirement already satisfied: decorator>=4.3.0 in /opt/conda/lib/python3.10/site-packages (from scprep>=0.11.1->phate) (5.1.1)\r\n",
      "Requirement already satisfied: pandas<2.1,>=0.25 in /opt/conda/lib/python3.10/site-packages (from scprep>=0.11.1->phate) (2.0.3)\r\n",
      "Requirement already satisfied: wrapt<2,>=1.10 in /opt/conda/lib/python3.10/site-packages (from Deprecated->phate) (1.15.0)\r\n",
      "Requirement already satisfied: pytz>=2020.1 in /opt/conda/lib/python3.10/site-packages (from pandas<2.1,>=0.25->scprep>=0.11.1->phate) (2023.3)\r\n",
      "Requirement already satisfied: tzdata>=2022.1 in /opt/conda/lib/python3.10/site-packages (from pandas<2.1,>=0.25->scprep>=0.11.1->phate) (2023.3)\r\n",
      "Requirement already satisfied: six>=1.5 in /opt/conda/lib/python3.10/site-packages (from python-dateutil>=2.7->matplotlib>=3.0->phate) (1.16.0)\r\n",
      "Downloading phate-1.0.11-py3-none-any.whl (23 kB)\r\n",
      "Downloading scprep-1.2.3-py3-none-any.whl (94 kB)\r\n",
      "\u001b[2K   \u001b[90m━━━━━━━━━━━━━━━━━━━━━━━━━━━━━━━━━━━━━━━━\u001b[0m \u001b[32m94.1/94.1 kB\u001b[0m \u001b[31m10.7 MB/s\u001b[0m eta \u001b[36m0:00:00\u001b[0m\r\n",
      "\u001b[?25hInstalling collected packages: s-gd2, tasklogger, pygsp, scprep, graphtools, phate\r\n",
      "Successfully installed graphtools-1.5.3 phate-1.0.11 pygsp-0.5.1 s-gd2-1.8.1 scprep-1.2.3 tasklogger-1.2.0\r\n",
      "Requirement already satisfied: umap-learn in /opt/conda/lib/python3.10/site-packages (0.5.4)\r\n",
      "Requirement already satisfied: numpy>=1.17 in /opt/conda/lib/python3.10/site-packages (from umap-learn) (1.24.3)\r\n",
      "Requirement already satisfied: scipy>=1.3.1 in /opt/conda/lib/python3.10/site-packages (from umap-learn) (1.11.3)\r\n",
      "Requirement already satisfied: scikit-learn>=0.22 in /opt/conda/lib/python3.10/site-packages (from umap-learn) (1.2.2)\r\n",
      "Requirement already satisfied: numba>=0.51.2 in /opt/conda/lib/python3.10/site-packages (from umap-learn) (0.57.1)\r\n",
      "Requirement already satisfied: pynndescent>=0.5 in /opt/conda/lib/python3.10/site-packages (from umap-learn) (0.5.10)\r\n",
      "Requirement already satisfied: tqdm in /opt/conda/lib/python3.10/site-packages (from umap-learn) (4.66.1)\r\n",
      "Requirement already satisfied: tbb>=2019.0 in /opt/conda/lib/python3.10/site-packages (from umap-learn) (2021.10.0)\r\n",
      "Requirement already satisfied: llvmlite<0.41,>=0.40.0dev0 in /opt/conda/lib/python3.10/site-packages (from numba>=0.51.2->umap-learn) (0.40.1)\r\n",
      "Requirement already satisfied: joblib>=0.11 in /opt/conda/lib/python3.10/site-packages (from pynndescent>=0.5->umap-learn) (1.3.2)\r\n",
      "Requirement already satisfied: threadpoolctl>=2.0.0 in /opt/conda/lib/python3.10/site-packages (from scikit-learn>=0.22->umap-learn) (3.2.0)\r\n",
      "Collecting pyod\r\n",
      "  Downloading pyod-1.1.1.tar.gz (159 kB)\r\n",
      "\u001b[2K     \u001b[90m━━━━━━━━━━━━━━━━━━━━━━━━━━━━━━━━━━━━━━━\u001b[0m \u001b[32m159.4/159.4 kB\u001b[0m \u001b[31m5.8 MB/s\u001b[0m eta \u001b[36m0:00:00\u001b[0m\r\n",
      "\u001b[?25h  Preparing metadata (setup.py) ... \u001b[?25l-\b \b\\\b \b|\b \b/\b \bdone\r\n",
      "\u001b[?25hRequirement already satisfied: joblib in /opt/conda/lib/python3.10/site-packages (from pyod) (1.3.2)\r\n",
      "Requirement already satisfied: matplotlib in /opt/conda/lib/python3.10/site-packages (from pyod) (3.7.3)\r\n",
      "Requirement already satisfied: numpy>=1.19 in /opt/conda/lib/python3.10/site-packages (from pyod) (1.24.3)\r\n",
      "Requirement already satisfied: numba>=0.51 in /opt/conda/lib/python3.10/site-packages (from pyod) (0.57.1)\r\n",
      "Requirement already satisfied: scipy>=1.5.1 in /opt/conda/lib/python3.10/site-packages (from pyod) (1.11.3)\r\n",
      "Requirement already satisfied: scikit_learn>=0.22.0 in /opt/conda/lib/python3.10/site-packages (from pyod) (1.2.2)\r\n",
      "Requirement already satisfied: six in /opt/conda/lib/python3.10/site-packages (from pyod) (1.16.0)\r\n",
      "Requirement already satisfied: llvmlite<0.41,>=0.40.0dev0 in /opt/conda/lib/python3.10/site-packages (from numba>=0.51->pyod) (0.40.1)\r\n",
      "Requirement already satisfied: threadpoolctl>=2.0.0 in /opt/conda/lib/python3.10/site-packages (from scikit_learn>=0.22.0->pyod) (3.2.0)\r\n",
      "Requirement already satisfied: contourpy>=1.0.1 in /opt/conda/lib/python3.10/site-packages (from matplotlib->pyod) (1.1.0)\r\n",
      "Requirement already satisfied: cycler>=0.10 in /opt/conda/lib/python3.10/site-packages (from matplotlib->pyod) (0.11.0)\r\n",
      "Requirement already satisfied: fonttools>=4.22.0 in /opt/conda/lib/python3.10/site-packages (from matplotlib->pyod) (4.42.1)\r\n",
      "Requirement already satisfied: kiwisolver>=1.0.1 in /opt/conda/lib/python3.10/site-packages (from matplotlib->pyod) (1.4.4)\r\n",
      "Requirement already satisfied: packaging>=20.0 in /opt/conda/lib/python3.10/site-packages (from matplotlib->pyod) (21.3)\r\n",
      "Requirement already satisfied: pillow>=6.2.0 in /opt/conda/lib/python3.10/site-packages (from matplotlib->pyod) (10.1.0)\r\n",
      "Requirement already satisfied: pyparsing>=2.3.1 in /opt/conda/lib/python3.10/site-packages (from matplotlib->pyod) (3.0.9)\r\n",
      "Requirement already satisfied: python-dateutil>=2.7 in /opt/conda/lib/python3.10/site-packages (from matplotlib->pyod) (2.8.2)\r\n",
      "Building wheels for collected packages: pyod\r\n",
      "  Building wheel for pyod (setup.py) ... \u001b[?25l-\b \b\\\b \b|\b \b/\b \bdone\r\n",
      "\u001b[?25h  Created wheel for pyod: filename=pyod-1.1.1-py3-none-any.whl size=190074 sha256=2593731fe2edcd713709b1a3c18835a86addcf8fd4b45503948c9680b6457fca\r\n",
      "  Stored in directory: /root/.cache/pip/wheels/a3/42/d7/48a53ffc1466bd63932f28583c64ebf442114db14a0bfa8c95\r\n",
      "Successfully built pyod\r\n",
      "Installing collected packages: pyod\r\n",
      "Successfully installed pyod-1.1.1\r\n",
      "Collecting cubist\r\n",
      "  Downloading cubist-0.1.0-cp310-cp310-manylinux_2_12_x86_64.manylinux2010_x86_64.whl (496 kB)\r\n",
      "\u001b[2K     \u001b[90m━━━━━━━━━━━━━━━━━━━━━━━━━━━━━━━━━━━━━━━\u001b[0m \u001b[32m497.0/497.0 kB\u001b[0m \u001b[31m9.7 MB/s\u001b[0m eta \u001b[36m0:00:00\u001b[0m\r\n",
      "\u001b[?25hRequirement already satisfied: numpy in /opt/conda/lib/python3.10/site-packages (from cubist) (1.24.3)\r\n",
      "Requirement already satisfied: pandas in /opt/conda/lib/python3.10/site-packages (from cubist) (2.0.3)\r\n",
      "Requirement already satisfied: scikit-learn>=0.23.0 in /opt/conda/lib/python3.10/site-packages (from cubist) (1.2.2)\r\n",
      "Requirement already satisfied: scipy>=1.3.2 in /opt/conda/lib/python3.10/site-packages (from scikit-learn>=0.23.0->cubist) (1.11.3)\r\n",
      "Requirement already satisfied: joblib>=1.1.1 in /opt/conda/lib/python3.10/site-packages (from scikit-learn>=0.23.0->cubist) (1.3.2)\r\n",
      "Requirement already satisfied: threadpoolctl>=2.0.0 in /opt/conda/lib/python3.10/site-packages (from scikit-learn>=0.23.0->cubist) (3.2.0)\r\n",
      "Requirement already satisfied: python-dateutil>=2.8.2 in /opt/conda/lib/python3.10/site-packages (from pandas->cubist) (2.8.2)\r\n",
      "Requirement already satisfied: pytz>=2020.1 in /opt/conda/lib/python3.10/site-packages (from pandas->cubist) (2023.3)\r\n",
      "Requirement already satisfied: tzdata>=2022.1 in /opt/conda/lib/python3.10/site-packages (from pandas->cubist) (2023.3)\r\n",
      "Requirement already satisfied: six>=1.5 in /opt/conda/lib/python3.10/site-packages (from python-dateutil>=2.8.2->pandas->cubist) (1.16.0)\r\n",
      "Installing collected packages: cubist\r\n",
      "Successfully installed cubist-0.1.0\r\n",
      "Requirement already satisfied: catboost in /opt/conda/lib/python3.10/site-packages (1.2.2)\r\n",
      "Requirement already satisfied: graphviz in /opt/conda/lib/python3.10/site-packages (from catboost) (0.20.1)\r\n",
      "Requirement already satisfied: matplotlib in /opt/conda/lib/python3.10/site-packages (from catboost) (3.7.3)\r\n",
      "Requirement already satisfied: numpy>=1.16.0 in /opt/conda/lib/python3.10/site-packages (from catboost) (1.24.3)\r\n",
      "Requirement already satisfied: pandas>=0.24 in /opt/conda/lib/python3.10/site-packages (from catboost) (2.0.3)\r\n",
      "Requirement already satisfied: scipy in /opt/conda/lib/python3.10/site-packages (from catboost) (1.11.3)\r\n",
      "Requirement already satisfied: plotly in /opt/conda/lib/python3.10/site-packages (from catboost) (5.16.1)\r\n",
      "Requirement already satisfied: six in /opt/conda/lib/python3.10/site-packages (from catboost) (1.16.0)\r\n",
      "Requirement already satisfied: python-dateutil>=2.8.2 in /opt/conda/lib/python3.10/site-packages (from pandas>=0.24->catboost) (2.8.2)\r\n",
      "Requirement already satisfied: pytz>=2020.1 in /opt/conda/lib/python3.10/site-packages (from pandas>=0.24->catboost) (2023.3)\r\n",
      "Requirement already satisfied: tzdata>=2022.1 in /opt/conda/lib/python3.10/site-packages (from pandas>=0.24->catboost) (2023.3)\r\n",
      "Requirement already satisfied: contourpy>=1.0.1 in /opt/conda/lib/python3.10/site-packages (from matplotlib->catboost) (1.1.0)\r\n",
      "Requirement already satisfied: cycler>=0.10 in /opt/conda/lib/python3.10/site-packages (from matplotlib->catboost) (0.11.0)\r\n",
      "Requirement already satisfied: fonttools>=4.22.0 in /opt/conda/lib/python3.10/site-packages (from matplotlib->catboost) (4.42.1)\r\n",
      "Requirement already satisfied: kiwisolver>=1.0.1 in /opt/conda/lib/python3.10/site-packages (from matplotlib->catboost) (1.4.4)\r\n",
      "Requirement already satisfied: packaging>=20.0 in /opt/conda/lib/python3.10/site-packages (from matplotlib->catboost) (21.3)\r\n",
      "Requirement already satisfied: pillow>=6.2.0 in /opt/conda/lib/python3.10/site-packages (from matplotlib->catboost) (10.1.0)\r\n",
      "Requirement already satisfied: pyparsing>=2.3.1 in /opt/conda/lib/python3.10/site-packages (from matplotlib->catboost) (3.0.9)\r\n",
      "Requirement already satisfied: tenacity>=6.2.0 in /opt/conda/lib/python3.10/site-packages (from plotly->catboost) (8.2.3)\r\n",
      "Collecting sklearn-rvm\r\n",
      "  Downloading sklearn_rvm-0.1.1-py3-none-any.whl (38 kB)\r\n",
      "Requirement already satisfied: numpy in /opt/conda/lib/python3.10/site-packages (from sklearn-rvm) (1.24.3)\r\n",
      "Requirement already satisfied: scipy in /opt/conda/lib/python3.10/site-packages (from sklearn-rvm) (1.11.3)\r\n",
      "Requirement already satisfied: scikit-learn in /opt/conda/lib/python3.10/site-packages (from sklearn-rvm) (1.2.2)\r\n",
      "Requirement already satisfied: joblib>=1.1.1 in /opt/conda/lib/python3.10/site-packages (from scikit-learn->sklearn-rvm) (1.3.2)\r\n",
      "Requirement already satisfied: threadpoolctl>=2.0.0 in /opt/conda/lib/python3.10/site-packages (from scikit-learn->sklearn-rvm) (3.2.0)\r\n",
      "Installing collected packages: sklearn-rvm\r\n",
      "Successfully installed sklearn-rvm-0.1.1\r\n",
      "Collecting dataheroes\r\n",
      "  Obtaining dependency information for dataheroes from https://files.pythonhosted.org/packages/54/d8/26603e3af631308473703aef535f566f5d79642ee3a40620aec2f41842b9/dataheroes-0.7.0-cp310-cp310-manylinux_2_17_x86_64.manylinux2014_x86_64.whl.metadata\r\n",
      "  Downloading dataheroes-0.7.0-cp310-cp310-manylinux_2_17_x86_64.manylinux2014_x86_64.whl.metadata (3.0 kB)\r\n",
      "Requirement already satisfied: numpy>=1.19.0 in /opt/conda/lib/python3.10/site-packages (from dataheroes) (1.24.3)\r\n",
      "Requirement already satisfied: scipy>=1.7.0 in /opt/conda/lib/python3.10/site-packages (from dataheroes) (1.11.3)\r\n",
      "Requirement already satisfied: scikit-learn>=0.24.0 in /opt/conda/lib/python3.10/site-packages (from dataheroes) (1.2.2)\r\n",
      "Requirement already satisfied: pandas>=1.0.0 in /opt/conda/lib/python3.10/site-packages (from dataheroes) (2.0.3)\r\n",
      "Requirement already satisfied: joblib>=0.17.0 in /opt/conda/lib/python3.10/site-packages (from dataheroes) (1.3.2)\r\n",
      "Requirement already satisfied: threadpoolctl>=2.1.0 in /opt/conda/lib/python3.10/site-packages (from dataheroes) (3.2.0)\r\n",
      "Requirement already satisfied: networkx>=2.5 in /opt/conda/lib/python3.10/site-packages (from dataheroes) (3.1)\r\n",
      "Requirement already satisfied: pydot>=1.4.1 in /opt/conda/lib/python3.10/site-packages (from dataheroes) (1.4.2)\r\n",
      "Requirement already satisfied: matplotlib>=3.3.0 in /opt/conda/lib/python3.10/site-packages (from dataheroes) (3.7.3)\r\n",
      "Requirement already satisfied: psutil>=5.8.0 in /opt/conda/lib/python3.10/site-packages (from dataheroes) (5.9.3)\r\n",
      "Requirement already satisfied: tables>=3.6.1 in /opt/conda/lib/python3.10/site-packages (from dataheroes) (3.9.1)\r\n",
      "Requirement already satisfied: decorator>=5.1.1 in /opt/conda/lib/python3.10/site-packages (from dataheroes) (5.1.1)\r\n",
      "Requirement already satisfied: opentelemetry-sdk>=1.14.0 in /opt/conda/lib/python3.10/site-packages (from dataheroes) (1.19.0)\r\n",
      "Requirement already satisfied: opentelemetry-api>=1.14.0 in /opt/conda/lib/python3.10/site-packages (from dataheroes) (1.19.0)\r\n",
      "Requirement already satisfied: opentelemetry-exporter-otlp>=1.14.0 in /opt/conda/lib/python3.10/site-packages (from dataheroes) (1.19.0)\r\n",
      "Collecting licensing>=0.31 (from dataheroes)\r\n",
      "  Downloading licensing-0.41.tar.gz (11 kB)\r\n",
      "  Preparing metadata (setup.py) ... \u001b[?25l-\b \b\\\b \bdone\r\n",
      "\u001b[?25hRequirement already satisfied: contourpy>=1.0.1 in /opt/conda/lib/python3.10/site-packages (from matplotlib>=3.3.0->dataheroes) (1.1.0)\r\n",
      "Requirement already satisfied: cycler>=0.10 in /opt/conda/lib/python3.10/site-packages (from matplotlib>=3.3.0->dataheroes) (0.11.0)\r\n",
      "Requirement already satisfied: fonttools>=4.22.0 in /opt/conda/lib/python3.10/site-packages (from matplotlib>=3.3.0->dataheroes) (4.42.1)\r\n",
      "Requirement already satisfied: kiwisolver>=1.0.1 in /opt/conda/lib/python3.10/site-packages (from matplotlib>=3.3.0->dataheroes) (1.4.4)\r\n",
      "Requirement already satisfied: packaging>=20.0 in /opt/conda/lib/python3.10/site-packages (from matplotlib>=3.3.0->dataheroes) (21.3)\r\n",
      "Requirement already satisfied: pillow>=6.2.0 in /opt/conda/lib/python3.10/site-packages (from matplotlib>=3.3.0->dataheroes) (10.1.0)\r\n",
      "Requirement already satisfied: pyparsing>=2.3.1 in /opt/conda/lib/python3.10/site-packages (from matplotlib>=3.3.0->dataheroes) (3.0.9)\r\n",
      "Requirement already satisfied: python-dateutil>=2.7 in /opt/conda/lib/python3.10/site-packages (from matplotlib>=3.3.0->dataheroes) (2.8.2)\r\n",
      "Requirement already satisfied: deprecated>=1.2.6 in /opt/conda/lib/python3.10/site-packages (from opentelemetry-api>=1.14.0->dataheroes) (1.2.14)\r\n",
      "Requirement already satisfied: importlib-metadata~=6.0 in /opt/conda/lib/python3.10/site-packages (from opentelemetry-api>=1.14.0->dataheroes) (6.8.0)\r\n",
      "Requirement already satisfied: opentelemetry-exporter-otlp-proto-grpc==1.19.0 in /opt/conda/lib/python3.10/site-packages (from opentelemetry-exporter-otlp>=1.14.0->dataheroes) (1.19.0)\r\n",
      "Requirement already satisfied: opentelemetry-exporter-otlp-proto-http==1.19.0 in /opt/conda/lib/python3.10/site-packages (from opentelemetry-exporter-otlp>=1.14.0->dataheroes) (1.19.0)\r\n",
      "Requirement already satisfied: backoff<3.0.0,>=1.10.0 in /opt/conda/lib/python3.10/site-packages (from opentelemetry-exporter-otlp-proto-grpc==1.19.0->opentelemetry-exporter-otlp>=1.14.0->dataheroes) (2.2.1)\r\n",
      "Requirement already satisfied: googleapis-common-protos~=1.52 in /opt/conda/lib/python3.10/site-packages (from opentelemetry-exporter-otlp-proto-grpc==1.19.0->opentelemetry-exporter-otlp>=1.14.0->dataheroes) (1.60.0)\r\n",
      "Requirement already satisfied: grpcio<2.0.0,>=1.0.0 in /opt/conda/lib/python3.10/site-packages (from opentelemetry-exporter-otlp-proto-grpc==1.19.0->opentelemetry-exporter-otlp>=1.14.0->dataheroes) (1.57.0)\r\n",
      "Requirement already satisfied: opentelemetry-exporter-otlp-proto-common==1.19.0 in /opt/conda/lib/python3.10/site-packages (from opentelemetry-exporter-otlp-proto-grpc==1.19.0->opentelemetry-exporter-otlp>=1.14.0->dataheroes) (1.19.0)\r\n",
      "Requirement already satisfied: opentelemetry-proto==1.19.0 in /opt/conda/lib/python3.10/site-packages (from opentelemetry-exporter-otlp-proto-grpc==1.19.0->opentelemetry-exporter-otlp>=1.14.0->dataheroes) (1.19.0)\r\n",
      "Requirement already satisfied: requests~=2.7 in /opt/conda/lib/python3.10/site-packages (from opentelemetry-exporter-otlp-proto-http==1.19.0->opentelemetry-exporter-otlp>=1.14.0->dataheroes) (2.31.0)\r\n",
      "Requirement already satisfied: protobuf<5.0,>=3.19 in /opt/conda/lib/python3.10/site-packages (from opentelemetry-proto==1.19.0->opentelemetry-exporter-otlp-proto-grpc==1.19.0->opentelemetry-exporter-otlp>=1.14.0->dataheroes) (3.20.3)\r\n",
      "Requirement already satisfied: opentelemetry-semantic-conventions==0.40b0 in /opt/conda/lib/python3.10/site-packages (from opentelemetry-sdk>=1.14.0->dataheroes) (0.40b0)\r\n",
      "Requirement already satisfied: typing-extensions>=3.7.4 in /opt/conda/lib/python3.10/site-packages (from opentelemetry-sdk>=1.14.0->dataheroes) (4.5.0)\r\n",
      "Requirement already satisfied: pytz>=2020.1 in /opt/conda/lib/python3.10/site-packages (from pandas>=1.0.0->dataheroes) (2023.3)\r\n",
      "Requirement already satisfied: tzdata>=2022.1 in /opt/conda/lib/python3.10/site-packages (from pandas>=1.0.0->dataheroes) (2023.3)\r\n",
      "Requirement already satisfied: numexpr>=2.6.2 in /opt/conda/lib/python3.10/site-packages (from tables>=3.6.1->dataheroes) (2.8.7)\r\n",
      "Requirement already satisfied: py-cpuinfo in /opt/conda/lib/python3.10/site-packages (from tables>=3.6.1->dataheroes) (9.0.0)\r\n",
      "Requirement already satisfied: blosc2>=2.2.8 in /opt/conda/lib/python3.10/site-packages (from tables>=3.6.1->dataheroes) (2.2.9)\r\n",
      "Requirement already satisfied: ndindex>=1.4 in /opt/conda/lib/python3.10/site-packages (from blosc2>=2.2.8->tables>=3.6.1->dataheroes) (1.7)\r\n",
      "Requirement already satisfied: msgpack in /opt/conda/lib/python3.10/site-packages (from blosc2>=2.2.8->tables>=3.6.1->dataheroes) (1.0.5)\r\n",
      "Requirement already satisfied: wrapt<2,>=1.10 in /opt/conda/lib/python3.10/site-packages (from deprecated>=1.2.6->opentelemetry-api>=1.14.0->dataheroes) (1.15.0)\r\n",
      "Requirement already satisfied: zipp>=0.5 in /opt/conda/lib/python3.10/site-packages (from importlib-metadata~=6.0->opentelemetry-api>=1.14.0->dataheroes) (3.16.2)\r\n",
      "Requirement already satisfied: six>=1.5 in /opt/conda/lib/python3.10/site-packages (from python-dateutil>=2.7->matplotlib>=3.3.0->dataheroes) (1.16.0)\r\n",
      "Requirement already satisfied: charset-normalizer<4,>=2 in /opt/conda/lib/python3.10/site-packages (from requests~=2.7->opentelemetry-exporter-otlp-proto-http==1.19.0->opentelemetry-exporter-otlp>=1.14.0->dataheroes) (3.2.0)\r\n",
      "Requirement already satisfied: idna<4,>=2.5 in /opt/conda/lib/python3.10/site-packages (from requests~=2.7->opentelemetry-exporter-otlp-proto-http==1.19.0->opentelemetry-exporter-otlp>=1.14.0->dataheroes) (3.4)\r\n",
      "Requirement already satisfied: urllib3<3,>=1.21.1 in /opt/conda/lib/python3.10/site-packages (from requests~=2.7->opentelemetry-exporter-otlp-proto-http==1.19.0->opentelemetry-exporter-otlp>=1.14.0->dataheroes) (1.26.15)\r\n",
      "Requirement already satisfied: certifi>=2017.4.17 in /opt/conda/lib/python3.10/site-packages (from requests~=2.7->opentelemetry-exporter-otlp-proto-http==1.19.0->opentelemetry-exporter-otlp>=1.14.0->dataheroes) (2023.7.22)\r\n",
      "Downloading dataheroes-0.7.0-cp310-cp310-manylinux_2_17_x86_64.manylinux2014_x86_64.whl (23.7 MB)\r\n",
      "\u001b[2K   \u001b[90m━━━━━━━━━━━━━━━━━━━━━━━━━━━━━━━━━━━━━━━━\u001b[0m \u001b[32m23.7/23.7 MB\u001b[0m \u001b[31m35.4 MB/s\u001b[0m eta \u001b[36m0:00:00\u001b[0m\r\n",
      "\u001b[?25hBuilding wheels for collected packages: licensing\r\n",
      "  Building wheel for licensing (setup.py) ... \u001b[?25l-\b \b\\\b \b|\b \bdone\r\n",
      "\u001b[?25h  Created wheel for licensing: filename=licensing-0.41-py3-none-any.whl size=13052 sha256=2cdb098be9265edbf5d47da3bc009b19db1c3330a12110fc289276265d493dc9\r\n",
      "  Stored in directory: /root/.cache/pip/wheels/f4/48/bb/b1b19bd137eab8995aa23393709fc223e9418ab21bba0836b1\r\n",
      "Successfully built licensing\r\n",
      "Installing collected packages: licensing, dataheroes\r\n",
      "Successfully installed dataheroes-0.7.0 licensing-0.41\r\n",
      "Collecting https://github.com/JamesRitchie/scikit-rvm/archive/master.zip\r\n",
      "  Downloading https://github.com/JamesRitchie/scikit-rvm/archive/master.zip\r\n",
      "\u001b[2K     \u001b[32m-\u001b[0m \u001b[32m10.8 kB\u001b[0m \u001b[31m30.2 MB/s\u001b[0m \u001b[33m0:00:00\u001b[0m\r\n",
      "\u001b[?25h  Preparing metadata (setup.py) ... \u001b[?25l-\b \bdone\r\n",
      "\u001b[?25hRequirement already satisfied: numpy>=1.9.2 in /opt/conda/lib/python3.10/site-packages (from scikit-rvm==0.1.0a1) (1.24.3)\r\n",
      "Requirement already satisfied: scipy>=0.15.1 in /opt/conda/lib/python3.10/site-packages (from scikit-rvm==0.1.0a1) (1.11.3)\r\n",
      "Requirement already satisfied: scikit-learn>=0.16.1 in /opt/conda/lib/python3.10/site-packages (from scikit-rvm==0.1.0a1) (1.2.2)\r\n",
      "Requirement already satisfied: joblib>=1.1.1 in /opt/conda/lib/python3.10/site-packages (from scikit-learn>=0.16.1->scikit-rvm==0.1.0a1) (1.3.2)\r\n",
      "Requirement already satisfied: threadpoolctl>=2.0.0 in /opt/conda/lib/python3.10/site-packages (from scikit-learn>=0.16.1->scikit-rvm==0.1.0a1) (3.2.0)\r\n",
      "Building wheels for collected packages: scikit-rvm\r\n",
      "  Building wheel for scikit-rvm (setup.py) ... \u001b[?25l-\b \b\\\b \bdone\r\n",
      "\u001b[?25h  Created wheel for scikit-rvm: filename=scikit_rvm-0.1.0a1-py3-none-any.whl size=4220 sha256=66bbb43453ae4821dc7239bfa959bb042afd564e7bbe528b3a691462f4054d7b\r\n",
      "  Stored in directory: /tmp/pip-ephem-wheel-cache-lx3s1yka/wheels/38/97/92/d2154117423998a97dee555851d446e94a40de60cb42351729\r\n",
      "Successfully built scikit-rvm\r\n",
      "Installing collected packages: scikit-rvm\r\n",
      "Successfully installed scikit-rvm-0.1.0a1\r\n"
     ]
    }
   ],
   "source": [
    "!pip install phate\n",
    "!pip install umap-learn\n",
    "!pip install pyod\n",
    "!pip install cubist\n",
    "!pip install catboost\n",
    "!pip install sklearn-rvm\n",
    "!pip install dataheroes\n",
    "!pip install https://github.com/JamesRitchie/scikit-rvm/archive/master.zip"
   ]
  },
  {
   "cell_type": "code",
   "execution_count": 2,
   "id": "3ff4323a",
   "metadata": {
    "execution": {
     "iopub.execute_input": "2023-11-10T21:26:54.643667Z",
     "iopub.status.busy": "2023-11-10T21:26:54.642290Z",
     "iopub.status.idle": "2023-11-10T21:26:58.424450Z",
     "shell.execute_reply": "2023-11-10T21:26:58.423018Z"
    },
    "papermill": {
     "duration": 3.804391,
     "end_time": "2023-11-10T21:26:58.428125",
     "exception": false,
     "start_time": "2023-11-10T21:26:54.623734",
     "status": "completed"
    },
    "tags": []
   },
   "outputs": [],
   "source": [
    "import numpy as np\n",
    "import pandas as pd\n",
    "import math\n",
    "import scipy\n",
    "import sklearn\n",
    "from sklearn.metrics import mean_squared_error\n",
    "from sklearn.model_selection import cross_val_score, KFold\n",
    "from sklearn import impute\n",
    "from sklearn import model_selection\n",
    "from sklearn.svm import SVR\n",
    "from sklearn.preprocessing import QuantileTransformer\n",
    "from sklearn.neighbors import LocalOutlierFactor\n",
    "from sklearn.feature_selection import SelectKBest, f_regression\n",
    "from sklearn.gaussian_process import GaussianProcessRegressor\n",
    "from sklearn.gaussian_process.kernels import RationalQuadratic\n",
    "from sklearn.metrics import r2_score\n",
    "\n",
    "import cubist\n",
    "import numpy as np\n",
    "from catboost import CatBoostRegressor\n",
    "from lightgbm import LGBMRegressor\n",
    "from sklearn.ensemble import ExtraTreesRegressor, AdaBoostRegressor, StackingRegressor, RandomForestRegressor\n",
    "from sklearn.gaussian_process import GaussianProcessRegressor\n",
    "from sklearn.gaussian_process.kernels import RationalQuadratic\n",
    "from sklearn.kernel_ridge import KernelRidge\n",
    "from sklearn.linear_model import RidgeCV, Lasso, ElasticNet, LinearRegression\n",
    "from sklearn.model_selection import KFold, GridSearchCV\n",
    "from sklearn.neighbors import KNeighborsRegressor\n",
    "from sklearn.svm import LinearSVR, SVR\n",
    "from xgboost import XGBRegressor\n",
    "from sklearn.metrics import r2_score, mean_squared_error\n",
    "from skrvm import RVR\n",
    "\n",
    "pd.DataFrame.iteritems = pd.DataFrame.items\n"
   ]
  },
  {
   "cell_type": "code",
   "execution_count": 3,
   "id": "0fa33145",
   "metadata": {
    "execution": {
     "iopub.execute_input": "2023-11-10T21:26:58.462976Z",
     "iopub.status.busy": "2023-11-10T21:26:58.462280Z",
     "iopub.status.idle": "2023-11-10T21:26:58.475922Z",
     "shell.execute_reply": "2023-11-10T21:26:58.474596Z"
    },
    "papermill": {
     "duration": 0.034274,
     "end_time": "2023-11-10T21:26:58.478744",
     "exception": false,
     "start_time": "2023-11-10T21:26:58.444470",
     "status": "completed"
    },
    "tags": []
   },
   "outputs": [
    {
     "name": "stdout",
     "output_type": "stream",
     "text": [
      "/kaggle/input/task-1/X_test.csv\n",
      "/kaggle/input/task-1/y_train.csv\n",
      "/kaggle/input/task-1/X_train.csv\n"
     ]
    }
   ],
   "source": [
    "import os\n",
    "for dirname, _, filenames in os.walk('/kaggle/input'):\n",
    "    for filename in filenames:\n",
    "        print(os.path.join(dirname, filename))"
   ]
  },
  {
   "cell_type": "code",
   "execution_count": 4,
   "id": "1c41e38b",
   "metadata": {
    "execution": {
     "iopub.execute_input": "2023-11-10T21:26:58.513142Z",
     "iopub.status.busy": "2023-11-10T21:26:58.512269Z",
     "iopub.status.idle": "2023-11-10T21:26:58.519025Z",
     "shell.execute_reply": "2023-11-10T21:26:58.517741Z"
    },
    "papermill": {
     "duration": 0.027197,
     "end_time": "2023-11-10T21:26:58.521812",
     "exception": false,
     "start_time": "2023-11-10T21:26:58.494615",
     "status": "completed"
    },
    "tags": []
   },
   "outputs": [],
   "source": [
    "def read_data(X_train_path, y_train_path, X_test_path):\n",
    "    X_train = np.genfromtxt(X_train_path, delimiter=\",\")\n",
    "    y_train = np.genfromtxt(y_train_path, delimiter=\",\")\n",
    "    X_test = np.genfromtxt(X_test_path, delimiter=\",\")\n",
    "    return X_train, y_train, X_test"
   ]
  },
  {
   "cell_type": "code",
   "execution_count": 5,
   "id": "8c85a046",
   "metadata": {
    "execution": {
     "iopub.execute_input": "2023-11-10T21:26:58.557383Z",
     "iopub.status.busy": "2023-11-10T21:26:58.556501Z",
     "iopub.status.idle": "2023-11-10T21:26:59.447717Z",
     "shell.execute_reply": "2023-11-10T21:26:59.446430Z"
    },
    "papermill": {
     "duration": 0.912377,
     "end_time": "2023-11-10T21:26:59.450609",
     "exception": false,
     "start_time": "2023-11-10T21:26:58.538232",
     "status": "completed"
    },
    "tags": []
   },
   "outputs": [
    {
     "name": "stdout",
     "output_type": "stream",
     "text": [
      "(1212, 832)\n",
      "(1212, 1)\n",
      "(776, 832)\n"
     ]
    }
   ],
   "source": [
    "# Read file\n",
    "X_train = pd.read_csv(\n",
    "    \"/kaggle/input/task-1/X_train.csv\",\n",
    "    sep = \",\",\n",
    "    index_col = \"id\"\n",
    ")\n",
    "\n",
    "y_train = pd.read_csv(\n",
    "    \"/kaggle/input/task-1/y_train.csv\",\n",
    "    sep = \",\",\n",
    "    index_col = \"id\"\n",
    ")\n",
    "\n",
    "X_test = pd.read_csv(\n",
    "    \"/kaggle/input/task-1/X_test.csv\",\n",
    "    sep = \",\",\n",
    "    index_col = \"id\"\n",
    ")\n",
    "ids_test = X_test.index\n",
    "\n",
    "print(X_train.shape)\n",
    "print(y_train.shape)\n",
    "print(X_test.shape)"
   ]
  },
  {
   "cell_type": "code",
   "execution_count": 6,
   "id": "abec26f6",
   "metadata": {
    "execution": {
     "iopub.execute_input": "2023-11-10T21:26:59.484641Z",
     "iopub.status.busy": "2023-11-10T21:26:59.484110Z",
     "iopub.status.idle": "2023-11-10T21:26:59.491780Z",
     "shell.execute_reply": "2023-11-10T21:26:59.490479Z"
    },
    "papermill": {
     "duration": 0.02843,
     "end_time": "2023-11-10T21:26:59.494883",
     "exception": false,
     "start_time": "2023-11-10T21:26:59.466453",
     "status": "completed"
    },
    "tags": []
   },
   "outputs": [],
   "source": [
    "def mp(x):\n",
    "  if x == 1:\n",
    "    return True\n",
    "  else:\n",
    "    return False"
   ]
  },
  {
   "cell_type": "code",
   "execution_count": 7,
   "id": "c68581f8",
   "metadata": {
    "execution": {
     "iopub.execute_input": "2023-11-10T21:26:59.530720Z",
     "iopub.status.busy": "2023-11-10T21:26:59.530313Z",
     "iopub.status.idle": "2023-11-10T21:27:01.196821Z",
     "shell.execute_reply": "2023-11-10T21:27:01.195633Z"
    },
    "papermill": {
     "duration": 1.688527,
     "end_time": "2023-11-10T21:27:01.199867",
     "exception": false,
     "start_time": "2023-11-10T21:26:59.511340",
     "status": "completed"
    },
    "tags": []
   },
   "outputs": [
    {
     "name": "stdout",
     "output_type": "stream",
     "text": [
      "[ True  True  True ...  True  True  True]\n"
     ]
    }
   ],
   "source": [
    "qt = QuantileTransformer(output_distribution=\"normal\", random_state=np.random.RandomState(304))\n",
    "\n",
    "impute_data = X_train.fillna(X_train.median())\n",
    "\n",
    "clf = LocalOutlierFactor()\n",
    "outliers = clf.fit_predict(impute_data)\n",
    "liers = outliers == 1\n",
    "print(liers)\n",
    "labels = y_train[liers]\n",
    "impute_data = impute_data[liers]\n",
    "selecter = SelectKBest(f_regression, k=200)\n",
    "impute_data = selecter.fit_transform(impute_data, labels.values.flatten())\n",
    "final_x = qt.fit_transform(impute_data)"
   ]
  },
  {
   "cell_type": "code",
   "execution_count": 8,
   "id": "dc0b2a45",
   "metadata": {
    "execution": {
     "iopub.execute_input": "2023-11-10T21:27:01.233623Z",
     "iopub.status.busy": "2023-11-10T21:27:01.233168Z",
     "iopub.status.idle": "2023-11-10T21:27:01.853727Z",
     "shell.execute_reply": "2023-11-10T21:27:01.852616Z"
    },
    "papermill": {
     "duration": 0.640678,
     "end_time": "2023-11-10T21:27:01.856383",
     "exception": false,
     "start_time": "2023-11-10T21:27:01.215705",
     "status": "completed"
    },
    "tags": []
   },
   "outputs": [],
   "source": [
    "impute_test = X_test.fillna(X_train.median())\n",
    "impute_test = selecter.transform(impute_test)\n",
    "final_test = qt.transform(impute_test)"
   ]
  },
  {
   "cell_type": "code",
   "execution_count": 9,
   "id": "64dca906",
   "metadata": {
    "execution": {
     "iopub.execute_input": "2023-11-10T21:27:01.889462Z",
     "iopub.status.busy": "2023-11-10T21:27:01.889051Z",
     "iopub.status.idle": "2023-11-10T21:27:01.897016Z",
     "shell.execute_reply": "2023-11-10T21:27:01.896265Z"
    },
    "papermill": {
     "duration": 0.02689,
     "end_time": "2023-11-10T21:27:01.899248",
     "exception": false,
     "start_time": "2023-11-10T21:27:01.872358",
     "status": "completed"
    },
    "tags": []
   },
   "outputs": [
    {
     "name": "stdout",
     "output_type": "stream",
     "text": [
      "<class 'numpy.ndarray'>\n"
     ]
    }
   ],
   "source": [
    "print(type(final_x))"
   ]
  },
  {
   "cell_type": "code",
   "execution_count": 10,
   "id": "ec3336f7",
   "metadata": {
    "execution": {
     "iopub.execute_input": "2023-11-10T21:27:01.932631Z",
     "iopub.status.busy": "2023-11-10T21:27:01.931642Z",
     "iopub.status.idle": "2023-11-10T21:27:01.940431Z",
     "shell.execute_reply": "2023-11-10T21:27:01.938929Z"
    },
    "papermill": {
     "duration": 0.028155,
     "end_time": "2023-11-10T21:27:01.942923",
     "exception": false,
     "start_time": "2023-11-10T21:27:01.914768",
     "status": "completed"
    },
    "tags": []
   },
   "outputs": [
    {
     "name": "stdout",
     "output_type": "stream",
     "text": [
      "(1170, 200)\n",
      "(1170,)\n",
      "(776, 200)\n"
     ]
    }
   ],
   "source": [
    "X_train = np.array(final_x)\n",
    "X_test = np.array(final_test)\n",
    "y_train = np.array(labels).ravel()\n",
    "print(X_train.shape)\n",
    "print(y_train.shape)\n",
    "print(X_test.shape)\n"
   ]
  },
  {
   "cell_type": "code",
   "execution_count": 11,
   "id": "0ee030c8",
   "metadata": {
    "execution": {
     "iopub.execute_input": "2023-11-10T21:27:01.976257Z",
     "iopub.status.busy": "2023-11-10T21:27:01.975851Z",
     "iopub.status.idle": "2023-11-10T21:27:01.985871Z",
     "shell.execute_reply": "2023-11-10T21:27:01.984641Z"
    },
    "papermill": {
     "duration": 0.029699,
     "end_time": "2023-11-10T21:27:01.988352",
     "exception": false,
     "start_time": "2023-11-10T21:27:01.958653",
     "status": "completed"
    },
    "tags": []
   },
   "outputs": [],
   "source": [
    "\n",
    "def get_model(method = 1):\n",
    "    if method == 1:\n",
    "        model = GaussianProcessRegressor(kernel=RationalQuadratic(alpha=3.5), random_state=42)\n",
    "    elif method == 2:\n",
    "        estimators = [\n",
    "            ('xgb', XGBRegressor(n_estimators=1000, eta=0.1, colsample_bytree=0.9,\n",
    "                                 gamma=0.5, learning_rate=0.1, max_depth=8, min_child_weight=10)),  # 0.520819\n",
    "            ('extratree', ExtraTreesRegressor(n_estimators=1000, random_state=0)),\n",
    "            ('adaboost', AdaBoostRegressor(n_estimators=1000, random_state=0)),\n",
    "            #('lgbm', LGBMRegressor(learning_rate=0.01, max_bin=1000, num_iterations=3000, verbose=0)),  # 0.508068\n",
    "            ('svr_rbf', SVR(C=10, coef0=0.01, degree=3, gamma='scale',kernel='rbf')),  # 0.515443\n",
    "            # ('mn', KNeighborsRegressor(n_neighbors=15, p=2, weights='distance')),  # 0.441597\n",
    "            ('rvm', RVR(alpha=1e-06)),\n",
    "            ('cat', CatBoostRegressor(verbose=False)),\n",
    "            ('gp', GaussianProcessRegressor(kernel=RationalQuadratic(alpha=3.5), random_state=42)),\n",
    "            ('cubist', cubist.Cubist()),\n",
    "        ]\n",
    "        model = StackingRegressor(estimators=estimators,\n",
    "                                  final_estimator=RandomForestRegressor(n_estimators=100, random_state=42))\n",
    "    return model"
   ]
  },
  {
   "cell_type": "code",
   "execution_count": 12,
   "id": "b72ce028",
   "metadata": {
    "execution": {
     "iopub.execute_input": "2023-11-10T21:27:02.022524Z",
     "iopub.status.busy": "2023-11-10T21:27:02.022096Z",
     "iopub.status.idle": "2023-11-10T21:27:56.195954Z",
     "shell.execute_reply": "2023-11-10T21:27:56.194441Z"
    },
    "papermill": {
     "duration": 54.197576,
     "end_time": "2023-11-10T21:27:56.201831",
     "exception": false,
     "start_time": "2023-11-10T21:27:02.004255",
     "status": "completed"
    },
    "tags": []
   },
   "outputs": [
    {
     "name": "stdout",
     "output_type": "stream",
     "text": [
      "\n",
      "Models and folds.\n",
      "(1053, 200)\n",
      "(1053,)\n",
      "(117, 200)\n",
      "Fold 0 R2 score: 0.6179603386077046, RMSE: 6.390013962803514\n",
      "(1053, 200)\n",
      "(1053,)\n",
      "(117, 200)\n",
      "Fold 1 R2 score: 0.5125680811602439, RMSE: 6.416149224923412\n",
      "(1053, 200)\n",
      "(1053,)\n",
      "(117, 200)\n",
      "Fold 2 R2 score: 0.5345933232180644, RMSE: 5.689110316838292\n",
      "(1053, 200)\n",
      "(1053,)\n",
      "(117, 200)\n",
      "Fold 3 R2 score: 0.5987914503794642, RMSE: 5.785871510154444\n",
      "(1053, 200)\n",
      "(1053,)\n",
      "(117, 200)\n",
      "Fold 4 R2 score: 0.5739899796010866, RMSE: 6.082509942749503\n",
      "(1053, 200)\n",
      "(1053,)\n",
      "(117, 200)\n",
      "Fold 5 R2 score: 0.6163014466347938, RMSE: 5.450664490624041\n",
      "(1053, 200)\n",
      "(1053,)\n",
      "(117, 200)\n",
      "Fold 6 R2 score: 0.29511179921642783, RMSE: 8.194511057859268\n",
      "(1053, 200)\n",
      "(1053,)\n",
      "(117, 200)\n",
      "Fold 7 R2 score: 0.5821668745499102, RMSE: 6.179316045491805\n",
      "(1053, 200)\n",
      "(1053,)\n",
      "(117, 200)\n",
      "Fold 8 R2 score: 0.49067283662998395, RMSE: 6.830115939702071\n",
      "(1053, 200)\n",
      "(1053,)\n",
      "(117, 200)\n",
      "Fold 9 R2 score: 0.4972222330818, RMSE: 7.174862709871647\n",
      "\n",
      "Avg R2: 0.5319378363079479, RMSE: 6.4193125201017995\n",
      "\n",
      "Trained.\n",
      "\n",
      "r2 ov train data (overfit): 0.9953364745521536, RMSE: 0.6465379364487515\n"
     ]
    }
   ],
   "source": [
    "def get_splits(X_train: np.array, nfolds: int = 10):\n",
    "    kf = KFold(n_splits=nfolds, random_state=42, shuffle=True)\n",
    "    return kf.split(X_train)\n",
    "\n",
    "\n",
    "def main():\n",
    "\n",
    "    nfolds = 10\n",
    "    splits = get_splits(X_train, nfolds)\n",
    "\n",
    "    print(\"\\nModels and folds.\")\n",
    "\n",
    "    r2, rmse_total = 0, 0\n",
    "    models = []\n",
    "    for i, (train_index, test_index) in enumerate(splits):\n",
    "        model = get_model(1)\n",
    "        print(X_train[train_index].shape)\n",
    "        print(y_train[train_index].shape)\n",
    "        print(X_train[test_index].shape)\n",
    "        model.fit(X_train[train_index], y_train[train_index])\n",
    "        pred = model.predict(X_train[test_index])\n",
    "        score = r2_score(y_train[test_index], pred)\n",
    "        r2 += score\n",
    "\n",
    "        rmse = mean_squared_error(y_train[test_index], pred, squared=False)\n",
    "        rmse_total += rmse\n",
    "\n",
    "        models.append(model)\n",
    "\n",
    "        print(f\"Fold {i} R2 score: {score}, RMSE: {rmse}\")\n",
    "\n",
    "    print(f\"\\nAvg R2: {r2 / nfolds}, RMSE: {rmse_total / nfolds}\")\n",
    "\n",
    "    print(\"\\nTrained.\")\n",
    "\n",
    "    from_folds = True\n",
    "    if from_folds:\n",
    "        pred = models[0].predict(X_test)\n",
    "        pred_train = models[0].predict(X_train)\n",
    "        for model in models[1:]:\n",
    "            pred += model.predict(X_test)\n",
    "            pred_train += model.predict(X_train)\n",
    "\n",
    "        pred = pred / nfolds\n",
    "        pred_train = pred_train / nfolds\n",
    "\n",
    "    else:\n",
    "        model = get_model(1)\n",
    "        model.fit(X_train, y_train)\n",
    "        pred = model.predict(X_test)\n",
    "\n",
    "        pred_train = model.predict(X_train)\n",
    "\n",
    "    rmse_train = mean_squared_error(y_train, pred_train, squared=False)\n",
    "    r2_train = r2_score(y_train, pred_train)\n",
    "    print(f\"\\nr2 ov train data (overfit): {r2_train}, RMSE: {rmse_train}\")\n",
    "\n",
    "    res = np.column_stack((ids_test, pred))\n",
    "    np.savetxt(\"out.csv\", res, fmt=['%1i', '%1.4f'], delimiter=\",\", header=\"id,y\", comments='')\n",
    "\n",
    "if __name__ == \"__main__\":\n",
    "    main()"
   ]
  },
  {
   "cell_type": "code",
   "execution_count": null,
   "id": "c481f330",
   "metadata": {
    "papermill": {
     "duration": 0.018688,
     "end_time": "2023-11-10T21:27:56.249725",
     "exception": false,
     "start_time": "2023-11-10T21:27:56.231037",
     "status": "completed"
    },
    "tags": []
   },
   "outputs": [],
   "source": []
  },
  {
   "cell_type": "code",
   "execution_count": null,
   "id": "3bc36646",
   "metadata": {
    "papermill": {
     "duration": 0.019147,
     "end_time": "2023-11-10T21:27:56.289176",
     "exception": false,
     "start_time": "2023-11-10T21:27:56.270029",
     "status": "completed"
    },
    "tags": []
   },
   "outputs": [],
   "source": []
  }
 ],
 "metadata": {
  "kernelspec": {
   "display_name": "Python 3",
   "language": "python",
   "name": "python3"
  },
  "language_info": {
   "codemirror_mode": {
    "name": "ipython",
    "version": 3
   },
   "file_extension": ".py",
   "mimetype": "text/x-python",
   "name": "python",
   "nbconvert_exporter": "python",
   "pygments_lexer": "ipython3",
   "version": "3.10.12"
  },
  "papermill": {
   "default_parameters": {},
   "duration": 204.202662,
   "end_time": "2023-11-10T21:27:57.243810",
   "environment_variables": {},
   "exception": null,
   "input_path": "__notebook__.ipynb",
   "output_path": "__notebook__.ipynb",
   "parameters": {},
   "start_time": "2023-11-10T21:24:33.041148",
   "version": "2.4.0"
  }
 },
 "nbformat": 4,
 "nbformat_minor": 5
}
